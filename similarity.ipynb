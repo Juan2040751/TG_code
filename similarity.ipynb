{
 "cells": [
  {
   "cell_type": "code",
   "id": "initial_id",
   "metadata": {
    "collapsed": true,
    "ExecuteTime": {
     "end_time": "2024-10-17T16:40:07.098090Z",
     "start_time": "2024-10-17T16:39:38.959695Z"
    }
   },
   "source": [
    "\n",
    "from sentence_transformers import SentenceTransformer\n",
    "\n",
    "model1 = SentenceTransformer('hiiamsid/sentence_similarity_spanish_es')"
   ],
   "outputs": [
    {
     "name": "stderr",
     "output_type": "stream",
     "text": [
      "C:\\Users\\jujov\\TG_code\\venv\\Lib\\site-packages\\sentence_transformers\\cross_encoder\\CrossEncoder.py:13: TqdmExperimentalWarning: Using `tqdm.autonotebook.tqdm` in notebook mode. Use `tqdm.tqdm` instead to force console mode (e.g. in jupyter console)\n",
      "  from tqdm.autonotebook import tqdm, trange\n",
      "C:\\Users\\jujov\\TG_code\\venv\\Lib\\site-packages\\transformers\\tokenization_utils_base.py:1601: FutureWarning: `clean_up_tokenization_spaces` was not set. It will be set to `True` by default. This behavior will be depracted in transformers v4.45, and will be then set to `False` by default. For more details check this issue: https://github.com/huggingface/transformers/issues/31884\n",
      "  warnings.warn(\n"
     ]
    }
   ],
   "execution_count": 3
  },
  {
   "metadata": {
    "ExecuteTime": {
     "end_time": "2024-10-22T13:53:21.789625Z",
     "start_time": "2024-10-22T13:53:21.773184Z"
    }
   },
   "cell_type": "code",
   "source": [
    "sentences1 = [\n",
    "    'En minutos en https://t.co/oZEqipCDoa la prueba reina de que Asofondos le redactó al senador Gustavo Moreno la proposición por medio de la  cual los fondos de pensiones resultaron beneficiados con una billonaria comisión en la reforma pensional. \\n\\nSantiago Montenegro, presidente de Asofondos, tiene que darle la cara al país. Porque son millones de trabajadores y ahorradores los damnificados. \\n\\nUn Congreso cuestionado por venderse, un gremio y el Gobierno Petro. \\n\\n¿No dizque no negociaron? \\n@fondosdepension \\n@danielwillsr']\n",
    "sentences2 = [\n",
    "    \"#LaPensionalYa La reforma pensional da una pension digna para mas de dos millones de adultos mayores, es un acierto hacia un sistema pensional mas progresista\",\n",
    "    \"La reforma pensional es más corrupcion, mermelada y politiqueria para colpensiones\"]"
   ],
   "id": "b3b8754d866e955",
   "outputs": [],
   "execution_count": 1
  },
  {
   "metadata": {
    "ExecuteTime": {
     "end_time": "2024-10-17T16:40:09.221230Z",
     "start_time": "2024-10-17T16:40:07.145409Z"
    }
   },
   "cell_type": "code",
   "source": [
    "embeddings1_m1 = model1.encode(sentences1)\n",
    "embeddings2_m1 = model1.encode(sentences2)\n",
    "\n",
    "model1.similarity(embeddings1_m1, embeddings2_m1)"
   ],
   "id": "459a824b100e99bc",
   "outputs": [
    {
     "data": {
      "text/plain": [
       "tensor([[0.4032, 0.4251]])"
      ]
     },
     "execution_count": 5,
     "metadata": {},
     "output_type": "execute_result"
    }
   ],
   "execution_count": 5
  },
  {
   "metadata": {
    "ExecuteTime": {
     "end_time": "2024-10-17T16:40:11.389612Z",
     "start_time": "2024-10-17T16:40:09.254268Z"
    }
   },
   "cell_type": "code",
   "source": [
    "from sentence_transformers import SentenceTransformer\n",
    "\n",
    "model2 = SentenceTransformer('jaimevera1107/all-MiniLM-L6-v2-similarity-es')\n"
   ],
   "id": "ecba5a79942e3ddd",
   "outputs": [],
   "execution_count": 6
  },
  {
   "metadata": {
    "ExecuteTime": {
     "end_time": "2024-10-17T16:40:11.764582Z",
     "start_time": "2024-10-17T16:40:11.452208Z"
    }
   },
   "cell_type": "code",
   "source": [
    "embeddings1_m2 = model2.encode(sentences1)\n",
    "embeddings2_m2 = model2.encode(sentences2)\n",
    "print(embeddings1_m2)\n",
    "model2.similarity(embeddings1_m2, embeddings2_m2)"
   ],
   "id": "61f79f0ef4bc744e",
   "outputs": [
    {
     "name": "stdout",
     "output_type": "stream",
     "text": [
      "[[-7.37249628e-02  8.11167061e-02 -3.49647924e-02  4.82821651e-02\n",
      "  -8.15587714e-02 -7.00766817e-02  2.87189870e-03 -1.05403448e-02\n",
      "   4.17253263e-02 -3.06567289e-02  9.85226333e-02 -2.46167257e-02\n",
      "  -2.40989048e-02 -4.52436283e-02 -5.29490784e-02  1.04152104e-02\n",
      "   6.14173822e-02  2.99279410e-02  1.25164744e-02  3.76818106e-02\n",
      "  -1.31355943e-02  2.58994475e-02  3.01104710e-02 -2.94866115e-02\n",
      "   5.52764954e-03  1.39226355e-02 -3.70301604e-02 -3.96720842e-02\n",
      "  -1.47034861e-02 -4.71053459e-02 -2.14835014e-02 -1.39555689e-02\n",
      "   1.11145573e-02 -6.40788525e-02  1.30258203e-01  2.51062158e-02\n",
      "   4.47463728e-02 -1.40949609e-02 -6.16315790e-02 -4.99820523e-02\n",
      "   3.41313262e-03  4.77187075e-02 -7.54085109e-02  6.10051379e-02\n",
      "  -1.92310736e-02  2.39851605e-02 -1.72663108e-02  3.81133221e-02\n",
      "  -7.69197801e-03 -3.88699062e-02 -2.47105453e-02 -2.20262688e-02\n",
      "  -3.98423299e-02  3.90063524e-02 -5.34109585e-02  5.55209219e-02\n",
      "  -8.68819505e-02  3.40459049e-02 -5.51852472e-02 -9.59202368e-03\n",
      "   5.25355004e-02 -1.51749812e-02 -1.84827615e-02 -5.12160696e-02\n",
      "  -2.90499497e-02  5.75590879e-02  4.22957130e-02 -4.36927676e-02\n",
      "  -4.71465103e-02  3.07297930e-02  5.31713590e-02 -3.78828086e-02\n",
      "   4.29046936e-02 -2.14819815e-02 -9.99034196e-02  7.20933303e-02\n",
      "  -1.41266268e-02  8.82100984e-02  1.96976122e-02 -5.75551949e-02\n",
      "  -1.72879063e-02 -9.75561738e-02  7.28566051e-02 -6.18246384e-03\n",
      "   2.96084443e-03  2.28496641e-02 -5.06755300e-02 -5.15026413e-02\n",
      "  -1.86356958e-02  2.66642775e-02  7.70359337e-02  4.81185280e-02\n",
      "   6.55610068e-03 -7.89825544e-02  7.16978335e-04  4.04523611e-02\n",
      "  -1.06114708e-02  3.66657116e-02 -7.68351033e-02  1.25458045e-02\n",
      "   3.68062258e-02  5.84679618e-02  3.31825987e-02 -4.49761190e-02\n",
      "   6.34354772e-03  1.14489667e-01 -3.89857329e-02 -7.79065266e-02\n",
      "   2.96060573e-02  4.05691890e-03  2.08648965e-02 -2.39339862e-02\n",
      "   3.23444162e-03 -5.37915640e-02 -1.23641230e-01 -7.75699154e-04\n",
      "  -5.54104932e-02  1.34482440e-02 -2.79590767e-02 -2.22266726e-02\n",
      "   8.47531110e-02  6.29523396e-02 -1.01154566e-01  7.31169805e-02\n",
      "  -6.21983334e-02  1.25801846e-01 -2.11530142e-02 -1.68434974e-06\n",
      "   7.23203868e-02 -1.65448599e-02  1.94792580e-02 -8.10185745e-02\n",
      "  -9.49127227e-03  6.38699308e-02  2.46332996e-02 -4.83984575e-02\n",
      "   1.59945004e-02 -2.38122493e-02 -1.30833732e-02 -4.08047549e-02\n",
      "   3.91496681e-02 -1.05744869e-01 -2.84124576e-02 -2.86388882e-02\n",
      "   3.11331991e-02 -2.80392375e-02  1.11338079e-01  5.27650192e-02\n",
      "   3.84182446e-02  8.74410570e-02  1.65230967e-02 -1.25295538e-02\n",
      "  -3.28437425e-02 -2.36634035e-02 -5.00801019e-02 -1.47273287e-01\n",
      "  -6.72609061e-02  1.94987908e-04 -6.55311272e-02 -1.05499960e-02\n",
      "   4.17975448e-02  8.78700763e-02 -1.17508983e-02 -4.92644385e-02\n",
      "  -7.74997994e-02 -8.05236995e-02 -2.33012158e-02 -4.02276553e-02\n",
      "  -5.79384267e-02  5.23219891e-02 -3.67420120e-03 -2.81673763e-02\n",
      "  -7.08196014e-02  1.03367325e-02  7.12867677e-02  5.97962029e-02\n",
      "   7.03298748e-02  4.99741659e-02  3.50959040e-02 -1.26409084e-02\n",
      "   7.67385494e-03  3.83606702e-02 -4.61442955e-02 -5.38708759e-04\n",
      "  -2.44649034e-02  1.00167301e-02  3.46383899e-02 -2.30790507e-02\n",
      "   4.95852940e-02  5.82450330e-02  7.95571730e-02 -4.35286798e-02\n",
      "  -2.13224124e-02  2.40344666e-02 -1.15423217e-01  1.63332168e-02\n",
      "  -2.90548448e-02 -6.37036115e-02  6.15987256e-02  2.67754458e-02\n",
      "   5.49563840e-02  1.25964936e-02 -3.84788103e-02 -4.55154199e-03\n",
      "   3.52614708e-02  4.98352125e-02  7.37106428e-03 -4.45508622e-02\n",
      "   6.99934661e-02  7.65965646e-03 -8.69202241e-03  6.12283461e-02\n",
      "   8.93390775e-02  5.61587662e-02  1.62024063e-03  9.22860950e-02\n",
      "  -3.33882906e-02  3.68532725e-02  2.06436776e-02 -2.13720966e-02\n",
      "  -1.98118724e-02  3.75511087e-02  8.39557424e-02 -6.30378736e-07\n",
      "   2.39653494e-02 -6.51734555e-03  3.70508595e-03 -5.14912494e-02\n",
      "  -5.70943579e-04  5.76463714e-02 -4.19023912e-03 -2.29608081e-02\n",
      "   2.00044271e-02 -4.06915508e-02  1.17214575e-01  3.68796401e-02\n",
      "  -6.48082271e-02  2.44923420e-02 -3.88235152e-02 -4.30424735e-02\n",
      "   3.22124772e-02  3.53904557e-04  9.87419859e-04  9.85659380e-03\n",
      "   4.96715344e-02  8.13663900e-02 -5.84931746e-02  2.00989321e-01\n",
      "  -3.61521579e-02  2.39373464e-02  5.07592922e-03 -1.04908608e-01\n",
      "  -3.46497297e-02 -1.39873512e-02  7.19183236e-02  3.48790586e-02\n",
      "  -6.57427125e-03 -4.99165878e-02  7.71032721e-02 -3.15911844e-02\n",
      "  -3.34813669e-02  9.53976344e-03  3.46002616e-02 -6.48674816e-02\n",
      "  -5.43654477e-03  5.31694777e-02  1.14683351e-02 -2.41352655e-02\n",
      "   1.45362401e-02 -2.47752108e-02 -6.60170615e-02 -7.40809813e-02\n",
      "  -2.90115476e-02 -6.10580631e-02 -2.44426355e-02  1.62238104e-03\n",
      "  -3.98698263e-02  2.24814266e-02  2.65288446e-03  5.17126061e-02\n",
      "   1.82548035e-02 -7.89086567e-04  3.83161977e-02  4.28531691e-02\n",
      "  -6.21454045e-02  2.54111104e-02  4.62988950e-03 -4.83837090e-02\n",
      "   3.05974260e-02  3.59378047e-02 -1.94691599e-03 -4.16120188e-03\n",
      "   3.17207128e-02 -3.67441848e-02 -1.33426124e-02  2.02158857e-02\n",
      "  -1.48750292e-02 -2.44951006e-02 -2.28216220e-02  6.18967675e-02\n",
      "   1.07977152e-01 -9.34669226e-02  2.95450503e-04 -5.90232871e-02\n",
      "  -2.81985030e-02 -1.52082872e-02 -8.99054669e-03  1.87265836e-02\n",
      "  -2.49789227e-02 -5.84335588e-02  1.42893952e-03 -7.68896788e-02\n",
      "   8.63305572e-03  5.63644692e-02  4.60731648e-02 -6.30132034e-02\n",
      "   6.75129592e-02  1.14333615e-01  6.75865635e-02  4.04071336e-08\n",
      "   8.39476883e-02 -2.72774771e-02  4.56606736e-03 -4.02892679e-02\n",
      "   1.76698733e-02 -8.13616142e-02  1.23477997e-02  3.83323594e-03\n",
      "  -7.71975517e-02 -5.53459972e-02  1.28685594e-01 -1.53975096e-02\n",
      "  -5.46334013e-02 -8.26769546e-02 -2.42619794e-02  7.62226954e-02\n",
      "  -7.84306601e-02 -8.54758080e-04  2.12310236e-02 -6.69785887e-02\n",
      "   1.81857478e-02 -3.59660871e-02 -4.71375659e-02  2.10614707e-02\n",
      "   2.79271398e-02 -2.47513652e-02  1.33502200e-01 -2.36064773e-02\n",
      "   9.52610373e-02 -6.15642183e-02  3.37488800e-02 -3.54033001e-02\n",
      "   1.67105459e-02  1.41438590e-02  2.87266057e-02 -1.07350446e-01\n",
      "   7.22276121e-02  4.04664241e-02 -7.49375485e-03 -2.54012048e-02\n",
      "  -7.23659098e-02 -3.54163013e-02  5.68068819e-03  2.05668453e-02\n",
      "  -6.70285523e-02 -4.58510593e-02 -4.02424596e-02 -4.43291999e-02\n",
      "   2.68909764e-02  7.18782172e-02  1.68757588e-02  6.28517047e-02\n",
      "  -1.08348802e-04  6.44924715e-02 -1.23792123e-02  1.20141366e-02\n",
      "   8.09296519e-02  2.70199422e-02 -7.53005743e-02  3.33546028e-02\n",
      "  -5.58611192e-03 -1.12118863e-01  1.76788250e-03  4.89002615e-02]]\n"
     ]
    },
    {
     "data": {
      "text/plain": [
       "tensor([[0.3691, 0.3040]])"
      ]
     },
     "execution_count": 7,
     "metadata": {},
     "output_type": "execute_result"
    }
   ],
   "execution_count": 7
  },
  {
   "metadata": {
    "ExecuteTime": {
     "end_time": "2024-10-17T16:40:13.490456Z",
     "start_time": "2024-10-17T16:40:11.813703Z"
    }
   },
   "cell_type": "code",
   "source": [
    "from transformers import pipeline\n",
    "\n",
    "sentiment_pipeline = pipeline('sentiment-analysis', model='cardiffnlp/twitter-roberta-base-sentiment')\n",
    "\n",
    "tweet = \"Estoy completamente en contra de la reforma pensional.\"\n",
    "sentiment = sentiment_pipeline(tweet)\n",
    "print(sentiment)"
   ],
   "id": "cda9f0dccf6c904c",
   "outputs": [
    {
     "name": "stderr",
     "output_type": "stream",
     "text": [
      "C:\\Users\\jujov\\TG_code\\venv\\Lib\\site-packages\\transformers\\tokenization_utils_base.py:1601: FutureWarning: `clean_up_tokenization_spaces` was not set. It will be set to `True` by default. This behavior will be depracted in transformers v4.45, and will be then set to `False` by default. For more details check this issue: https://github.com/huggingface/transformers/issues/31884\n",
      "  warnings.warn(\n"
     ]
    },
    {
     "name": "stdout",
     "output_type": "stream",
     "text": [
      "[{'label': 'LABEL_1', 'score': 0.7809921503067017}]\n"
     ]
    }
   ],
   "execution_count": 8
  },
  {
   "metadata": {
    "ExecuteTime": {
     "end_time": "2024-10-17T16:40:13.666336Z",
     "start_time": "2024-10-17T16:40:13.527813Z"
    }
   },
   "cell_type": "code",
   "source": [
    "tweet = \"Estoy completamente en contra de la reforma pensional.\"\n",
    "print(sentiment_pipeline(tweet))\n",
    "tweet = \"Estoy completamente a favor de la reforma pensional.\"\n",
    "print(sentiment_pipeline(tweet))"
   ],
   "id": "ed154ba38486f260",
   "outputs": [
    {
     "name": "stdout",
     "output_type": "stream",
     "text": [
      "[{'label': 'LABEL_1', 'score': 0.7809921503067017}]\n",
      "[{'label': 'LABEL_1', 'score': 0.8399338126182556}]\n"
     ]
    }
   ],
   "execution_count": 9
  },
  {
   "metadata": {
    "ExecuteTime": {
     "end_time": "2024-10-17T16:40:14.739823Z",
     "start_time": "2024-10-17T16:40:13.731267Z"
    }
   },
   "cell_type": "code",
   "source": [
    "from pysentimiento import create_analyzer\n",
    "\n",
    "analyzerPYS = create_analyzer(task=\"sentiment\", lang=\"es\")"
   ],
   "id": "93ea17929122fc8e",
   "outputs": [
    {
     "name": "stderr",
     "output_type": "stream",
     "text": [
      "C:\\Users\\jujov\\TG_code\\venv\\Lib\\site-packages\\transformers\\tokenization_utils_base.py:1601: FutureWarning: `clean_up_tokenization_spaces` was not set. It will be set to `True` by default. This behavior will be depracted in transformers v4.45, and will be then set to `False` by default. For more details check this issue: https://github.com/huggingface/transformers/issues/31884\n",
      "  warnings.warn(\n"
     ]
    }
   ],
   "execution_count": 10
  },
  {
   "metadata": {
    "ExecuteTime": {
     "end_time": "2024-10-17T16:40:15.233076Z",
     "start_time": "2024-10-17T16:40:14.758293Z"
    }
   },
   "cell_type": "code",
   "source": "analyzerPYS.predict(\"Estoy completamente en contra de la reforma pensional.\"),",
   "id": "1e96e370ffd6c8a6",
   "outputs": [
    {
     "data": {
      "text/plain": [
       "(AnalyzerOutput(output=NEG, probas={NEG: 0.921, NEU: 0.062, POS: 0.017}),)"
      ]
     },
     "execution_count": 11,
     "metadata": {},
     "output_type": "execute_result"
    }
   ],
   "execution_count": 11
  },
  {
   "metadata": {
    "ExecuteTime": {
     "end_time": "2024-10-17T16:40:15.268146Z",
     "start_time": "2024-10-17T16:40:15.259430Z"
    }
   },
   "cell_type": "code",
   "source": "",
   "id": "680eb4ec9a457a67",
   "outputs": [],
   "execution_count": null
  },
  {
   "metadata": {
    "ExecuteTime": {
     "end_time": "2024-10-17T16:40:17.158820Z",
     "start_time": "2024-10-17T16:40:15.292632Z"
    }
   },
   "cell_type": "code",
   "source": [
    "import nltk\n",
    "from nltk.sentiment import SentimentIntensityAnalyzer\n",
    "\n",
    "# Descargar recursos necesarios de NLTK\n",
    "nltk.download('vader_lexicon')\n",
    "\n",
    "\n",
    "# Función para realizar el análisis de sentimientos\n",
    "def analizar_sentimientos(texto):\n",
    "    sia = SentimentIntensityAnalyzer()\n",
    "    sentimiento = sia.polarity_scores(texto)\n",
    "\n",
    "    # Extraer las características de polaridad\n",
    "    features = {}\n",
    "    features['polaridad_positiva'] = sentimiento['pos']\n",
    "    features['polaridad_negativa'] = sentimiento['neg']\n",
    "    features['polaridad_neutral'] = sentimiento['neu']\n",
    "    features['polaridad_compuesta'] = sentimiento['compound']\n",
    "\n",
    "    return features\n",
    "\n",
    "\n",
    "# Ejemplo de uso\n",
    "texto = \"Me encanta, es el mejor producto que he comprado.\"\n",
    "resultados = analizar_sentimientos(texto)\n",
    "\n",
    "# Mostrar resultados\n",
    "print(\"Resultados del análisis de sentimientos:\")\n",
    "print(f\"Polaridad positiva: {resultados['polaridad_positiva']}\")\n",
    "print(f\"Polaridad negativa: {resultados['polaridad_negativa']}\")\n",
    "print(f\"Polaridad neutral: {resultados['polaridad_neutral']}\")\n",
    "print(f\"Polaridad compuesta: {resultados['polaridad_compuesta']}\")"
   ],
   "id": "881c0e69a24839df",
   "outputs": [
    {
     "name": "stdout",
     "output_type": "stream",
     "text": [
      "Resultados del análisis de sentimientos:\n",
      "Polaridad positiva: 0.0\n",
      "Polaridad negativa: 0.0\n",
      "Polaridad neutral: 1.0\n",
      "Polaridad compuesta: 0.0\n"
     ]
    },
    {
     "name": "stderr",
     "output_type": "stream",
     "text": [
      "[nltk_data] Downloading package vader_lexicon to\n",
      "[nltk_data]     C:\\Users\\jujov\\AppData\\Roaming\\nltk_data...\n",
      "[nltk_data]   Package vader_lexicon is already up-to-date!\n"
     ]
    }
   ],
   "execution_count": 12
  },
  {
   "metadata": {
    "ExecuteTime": {
     "end_time": "2024-10-17T16:40:17.241986Z",
     "start_time": "2024-10-17T16:40:17.231717Z"
    }
   },
   "cell_type": "code",
   "source": "",
   "id": "783f5c5bd1cd1b11",
   "outputs": [],
   "execution_count": null
  },
  {
   "metadata": {
    "ExecuteTime": {
     "end_time": "2024-10-17T16:40:18.030800Z",
     "start_time": "2024-10-17T16:40:17.344437Z"
    }
   },
   "cell_type": "code",
   "source": [
    "print(analizar_sentimientos(\"La reforma pensional es un despropósito politiquero.\"))\n",
    "print(analizar_sentimientos(\"Estoy completamente en contra de la reforma pensional.\"))\n",
    "print(analizar_sentimientos(\"Estoy completamente a favor de la reforma pensional.\"))\n",
    "print(analizar_sentimientos(\"La reforma pensional da una mesada digna para más de dos millones de adultos mayores\"))\n",
    "print(analizar_sentimientos(\n",
    "    \"La aprobación de la reforma pensional en la Cámara de Representantes fue irregular y abiertamente inconstitucional.\"))\n",
    "print()\n",
    "\n",
    "print(analyzerPYS.predict(\"La reforma pensional es un despropósito politiquero.\"))\n",
    "print(analyzerPYS.predict(\"Estoy completamente en contra de la reforma pensional.\"))\n",
    "print(analyzerPYS.predict(\"Estoy completamente a favor de la reforma pensional.\"))\n",
    "print(analyzerPYS.predict(\"La reforma pensional da una mesada digna para más de dos millones de adultos mayores\"))\n",
    "print(analyzerPYS.predict(\n",
    "    \"La aprobación de la reforma pensional en la Cámara de Representantes fue irregular y abiertamente inconstitucional.\"))\n"
   ],
   "id": "a1f36a2feb8924af",
   "outputs": [
    {
     "name": "stdout",
     "output_type": "stream",
     "text": [
      "{'polaridad_positiva': 0.0, 'polaridad_negativa': 0.0, 'polaridad_neutral': 1.0, 'polaridad_compuesta': 0.0}\n",
      "{'polaridad_positiva': 0.0, 'polaridad_negativa': 0.0, 'polaridad_neutral': 1.0, 'polaridad_compuesta': 0.0}\n",
      "{'polaridad_positiva': 0.31, 'polaridad_negativa': 0.0, 'polaridad_neutral': 0.69, 'polaridad_compuesta': 0.4019}\n",
      "{'polaridad_positiva': 0.0, 'polaridad_negativa': 0.0, 'polaridad_neutral': 1.0, 'polaridad_compuesta': 0.0}\n",
      "{'polaridad_positiva': 0.0, 'polaridad_negativa': 0.0, 'polaridad_neutral': 1.0, 'polaridad_compuesta': 0.0}\n",
      "\n",
      "AnalyzerOutput(output=NEG, probas={NEG: 0.967, NEU: 0.028, POS: 0.005})\n",
      "AnalyzerOutput(output=NEG, probas={NEG: 0.921, NEU: 0.062, POS: 0.017})\n",
      "AnalyzerOutput(output=NEU, probas={NEU: 0.377, POS: 0.325, NEG: 0.298})\n",
      "AnalyzerOutput(output=NEU, probas={NEU: 0.508, POS: 0.288, NEG: 0.203})\n",
      "AnalyzerOutput(output=NEG, probas={NEG: 0.908, NEU: 0.082, POS: 0.010})\n"
     ]
    }
   ],
   "execution_count": 13
  },
  {
   "metadata": {
    "ExecuteTime": {
     "end_time": "2024-10-17T16:40:18.556989Z",
     "start_time": "2024-10-17T16:40:18.046447Z"
    }
   },
   "cell_type": "code",
   "source": [
    "from vaderSentiment.vaderSentiment import SentimentIntensityAnalyzer\n",
    "\n",
    "analyzer = SentimentIntensityAnalyzer()\n",
    "analyzer.polarity_scores(\"La reforma pensional es un desproposito politiquero.\")"
   ],
   "id": "190cbad80779ce2c",
   "outputs": [
    {
     "data": {
      "text/plain": [
       "{'neg': 0.31, 'neu': 0.69, 'pos': 0.0, 'compound': -0.4019}"
      ]
     },
     "execution_count": 14,
     "metadata": {},
     "output_type": "execute_result"
    }
   ],
   "execution_count": 14
  },
  {
   "metadata": {
    "ExecuteTime": {
     "end_time": "2024-10-17T16:40:18.606987Z",
     "start_time": "2024-10-17T16:40:18.588254Z"
    }
   },
   "cell_type": "code",
   "source": [
    "def calcular_polaridad_compuesta(polaridad_positiva, polaridad_negativa, polaridad_neutral):\n",
    "    # Calcular la polaridad compuesta\n",
    "    polaridad_compuesta = (polaridad_positiva - polaridad_negativa) * (1 - polaridad_neutral)\n",
    "    return round(polaridad_compuesta, 3)\n",
    "\n",
    "\n",
    "# Ejemplo de polaridades\n",
    "polaridad_positiva = 0.0\n",
    "polaridad_negativa = 0.31\n",
    "polaridad_neutral = 0.69\n",
    "\n",
    "# Calcular polaridad compuesta\n",
    "polaridad_compuesta = calcular_polaridad_compuesta(polaridad_positiva, polaridad_negativa, polaridad_neutral)\n",
    "print(f'Polaridad compuesta: {polaridad_compuesta}')\n"
   ],
   "id": "15b6c40bde2faf49",
   "outputs": [
    {
     "name": "stdout",
     "output_type": "stream",
     "text": [
      "Polaridad compuesta: -0.096\n"
     ]
    }
   ],
   "execution_count": 15
  },
  {
   "metadata": {
    "ExecuteTime": {
     "end_time": "2024-10-17T16:40:19.620529Z",
     "start_time": "2024-10-17T16:40:18.690520Z"
    }
   },
   "cell_type": "code",
   "source": [
    "from transformers import BertTokenizer, BertForSequenceClassification\n",
    "\n",
    "# Ajustar un modelo preentrenado como BERT para regresión\n",
    "model = BertForSequenceClassification.from_pretrained('bert-base-uncased', num_labels=1)\n",
    "tokenizer = BertTokenizer.from_pretrained('bert-base-uncased')\n",
    "\n",
    "# Texto de ejemplo\n",
    "# Postura continua predicha"
   ],
   "id": "4c5f1254e3189a15",
   "outputs": [],
   "execution_count": 16
  },
  {
   "metadata": {
    "ExecuteTime": {
     "end_time": "2024-10-17T16:40:20.138128Z",
     "start_time": "2024-10-17T16:40:19.641748Z"
    }
   },
   "cell_type": "code",
   "source": [
    "text = \"La reforma pensional es un desastre.\"\n",
    "\n",
    "# Tokenización y preparación de entrada\n",
    "inputs = tokenizer(text, return_tensors=\"pt\", padding=True, truncation=True)\n",
    "outputs = model(**inputs)\n",
    "\n",
    "# El valor de salida será un número continuo que representa la postura\n",
    "postura = outputs.logits.item()\n",
    "print(f\"Postura: {postura:.3f}\", outputs.logits)"
   ],
   "id": "6e30e29d5b70d7bd",
   "outputs": [
    {
     "name": "stdout",
     "output_type": "stream",
     "text": [
      "Postura: 0.318 tensor([[0.3176]], grad_fn=<AddmmBackward0>)\n"
     ]
    }
   ],
   "execution_count": 17
  },
  {
   "metadata": {
    "ExecuteTime": {
     "end_time": "2024-10-17T16:40:20.200384Z",
     "start_time": "2024-10-17T16:40:20.186746Z"
    }
   },
   "cell_type": "code",
   "source": [
    "import numpy as np\n",
    "\n",
    "m = np.array([[1, 9, 0], [1, 0, 1], [2, 0, 0]])\n",
    "a = np.array([4, 4, 2])\n",
    "comunity_influence = np.sum(a[m[0] != 0])\n",
    "comunity_influence"
   ],
   "id": "c32d9ff3ec443a9",
   "outputs": [
    {
     "data": {
      "text/plain": [
       "np.int64(8)"
      ]
     },
     "execution_count": 18,
     "metadata": {},
     "output_type": "execute_result"
    }
   ],
   "execution_count": 18
  },
  {
   "metadata": {
    "ExecuteTime": {
     "end_time": "2024-10-24T18:40:42.232008Z",
     "start_time": "2024-10-24T18:40:42.201989Z"
    }
   },
   "cell_type": "code",
   "source": [
    "topic = \"La reforma pensional en Colombia\"\n",
    "topic_context = (\n",
    "    \"El gobierno del presidente Gustavo Petro presentó un proyecto de ley para reformar el sistema pensional, \"\n",
    "    \"el cual fue aprobado con el apoyo de algunos sectores y cuestionado por otros.\")\n",
    "\n",
    "prompt = (\n",
    "    f\"Eres un analista experto e imparcial en {topic}. Tu tarea es medir la postura de un usuario frente a este tema en un rango continuo entre 0 y 1, donde: \"\n",
    "    f\"0 = Férreamente en contra, 1 = Reciamente a favor, 0.5 = Neutral, \"\n",
    "    f\"0.25 = Oposición moderada (reconoce o no está enfáticamente indispuesto a reconocer aspectos positivos), \"\n",
    "    f\"0.75 = Apoyo moderado (reconoce o está predispuesto a reconocer objeciones).\"\n",
    "    f\"Contexto: \\\"{topic_context}\\\" \"\n",
    "    \"Entrada: Opiniones del usuario desde una red social\"\n",
    "    \"Instrucciones: \"\n",
    "    \"1. Analiza la postura general en cada opinión\"\n",
    "    \"2. Calcula la proporción de frases a favor vs. en contra del tema\"\n",
    "    \"3. Emociones explícitas directas hacia el tema refuerzan la postura (más emoción positiva = postura cercana a 1; negativa = cercana a 0). \"\n",
    "    \"4. Pondera adjetivos y adverbios utilizados para expresar alguna postura frente al tema\"\n",
    "    \"5. Conectores de oposición indican postura moderada. Ej: 'aunque no es perfecta, la reforma pensional es un paso positivo' o 'a pesar de las críticas, tiene aspectos rescatables'\"\n",
    "    \"6. Los adverbios de cantidad indican posturas extremas, y los de duda, posturas moderadas\"\n",
    "    f\"Salida esperada: Un número decimal entre 0 y 1, con dos decimales, como 0.21, 0.75 o 0.03, representando la postura general del usuario frente a {topic}. Tambien devuelve otro parametro con una breve descripcion de las razones por las que se asigna ese valor. Ademas incluye una lista de las emociones que se puedan identificar en el texto\"\n",
    "    \"ejemplo salida: {value: 0.43, reason: \\\"...\\\", emotions: [...]}. En caso de no tener suficientes criterios para determinar una postura devuelve -1 en 'value'\")\n",
    "print(prompt)"
   ],
   "id": "19f9fba2adf061a2",
   "outputs": [
    {
     "name": "stdout",
     "output_type": "stream",
     "text": [
      "Eres un analista experto e imparcial en La reforma pensional en Colombia. Tu tarea es medir la postura de un usuario frente a este tema en un rango continuo entre 0 y 1, donde: 0 = Férreamente en contra, 1 = Reciamente a favor, 0.5 = Neutral, 0.25 = Oposición moderada (reconoce o no está enfáticamente indispuesto a reconocer aspectos positivos), 0.75 = Apoyo moderado (reconoce o está predispuesto a reconocer objeciones).Contexto: \"El gobierno del presidente Gustavo Petro presentó un proyecto de ley para reformar el sistema pensional, el cual fue aprobado con el apoyo de algunos sectores y cuestionado por otros.\" Entrada: Opiniones del usuario desde una red socialInstrucciones: 1. Analiza la postura general en cada opinión2. Calcula la proporción de frases a favor vs. en contra del tema3. Emociones explícitas directas hacia el tema refuerzan la postura (más emoción positiva = postura cercana a 1; negativa = cercana a 0). 4. Pondera adjetivos y adverbios utilizados para expresar alguna postura frente al tema5. Conectores de oposición indican postura moderada. Ej: 'aunque no es perfecta, la reforma pensional es un paso positivo' o 'a pesar de las críticas, tiene aspectos rescatables'6. Los adverbios de cantidad indican posturas extremas, y los de duda, posturas moderadasSalida esperada: Un número decimal entre 0 y 1, con dos decimales, como 0.21, 0.75 o 0.03, representando la postura general del usuario frente a La reforma pensional en Colombia. Tambien devuelve otro parametro con una breve descripcion de las razones por las que se asigna ese valor. Ademas incluye una lista de las emociones que se puedan identificar en el textoejemplo salida: {value: 0.43, reason: \"...\", emotions: [...]}. En caso de no tener suficientes criterios para determinar una postura devuelve -1 en 'value'\n"
     ]
    }
   ],
   "execution_count": 1
  },
  {
   "metadata": {
    "ExecuteTime": {
     "end_time": "2024-10-24T20:22:41.456983Z",
     "start_time": "2024-10-24T20:22:41.433468Z"
    }
   },
   "cell_type": "code",
   "source": [
    "sentences1 = [\n",
    "    'En minutos en https://t.co/oZEqipCDoa la prueba reina de que Asofondos le redactó al senador Gustavo Moreno la proposición por medio de la  cual los fondos de pensiones resultaron beneficiados con una billonaria comisión en la reforma pensional. \\n\\nSantiago Montenegro, presidente de Asofondos, tiene que darle la cara al país. Porque son millones de trabajadores y ahorradores los damnificados. \\n\\nUn Congreso cuestionado por venderse, un gremio y el Gobierno Petro. \\n\\n¿No dizque no negociaron? \\n@fondosdepension \\n@danielwillsr']\n",
    "sentences2 = [\n",
    "    \"#LaPensionalYa La reforma pensional da una pension digna para mas de dos millones de adultos mayores, es un acierto hacia un sistema pensional mas progresista\",\n",
    "    \"La reforma pensional es más corrupcion, mermelada y politiqueria para colpensiones\"]\n",
    "sentences3 = [\"Por altruismo van a dejar a varias generaciones sin futuro Pensional.\"]\n",
    "sentences4 = [\n",
    "    \"❌ Con la Reforma Pensional NO se va a expropiar la plata de la gente. ❌ El Pilar Solidario NO se paga con las cotizaciones de la gente. ✅ La Reforma Pensional SÍ cuenta con aval fiscal en la ponencia de segundo debate. Escuchen y compartan las claridades que el ministro  @ricardobonillag entregó esta mañana en el debate sobre la #ReformaPensionalYa ¡#AguantaPensionarse!\",\n",
    "    \"#PensionarseUnaRealidad 🇨🇴👏🏻 Al lado del pueblo: así vivimos la sanción de la Reforma Pensional, un día para no olvidar. Un día para recordar que hemos avanzado hacia la justicia social. Los viejos y las viejas de nuestros país merecen una vejez digna 👵🏼👴🏽\",\n",
    "    \"La Reforma Pensional Sí genera impactos sociales en nuestro país. En este 🧵les cuento por qué 👇🏼 1️⃣ El Pilar solidario reduce sustancialmente la pobreza en los adultos mayores Actualmente el Estado, a través del Programa Social al Adulto Mayor, le otorga una renta mensual de $80 mil a 1.8 millones de adultos mayores que no reciben pensión -ni cotizaron al sistema- y que se encuentran en condición de pobreza. ✅La Reforma Pensional aprobada mejorará las condiciones de protección social al adulto mayor aumentando el monto de la renta mensual y la cobertura: la renta mensual aumentará de $80 mil a $240 mil y se pasará de 1.8 millones a 2.6 millones beneficiarios. ✅El Gobierno calcula que con la implementación de esta medida de la Reforma se reducirá en un 87% y en un 54% la cantidad de adultos mayores en condición de pobreza extrema y pobreza monetaria, respectivamente. 🔴 Ojo, esto no es un regalo, este pilar contribuye a la economía del país, al consumo, a la demanda agregada, por tanto, a la creación de empleo y a la productividad.\"]\n"
   ],
   "id": "aaafaf0c39cdcc63",
   "outputs": [],
   "execution_count": 2
  },
  {
   "metadata": {
    "ExecuteTime": {
     "end_time": "2024-10-24T20:23:00.907231Z",
     "start_time": "2024-10-24T20:22:49.033231Z"
    }
   },
   "cell_type": "code",
   "source": [
    "from openai import OpenAI\n",
    "from pydantic import BaseModel\n",
    "from dotenv import dotenv_values\n",
    "\n",
    "openIAKey = dotenv_values(\".env\")[\"OPENAI_API_KEY\"]\n",
    "client = OpenAI(api_key=openIAKey)\n",
    "\n",
    "\n",
    "class Stance(BaseModel):\n",
    "    value: float\n",
    "    reason: str\n",
    "    emotions: list[str]\n",
    "\n",
    "\n",
    "def stanceDetection(opinions):\n",
    "    completion = client.beta.chat.completions.parse(\n",
    "        model=\"gpt-4o-mini\",\n",
    "        messages=[\n",
    "            {\"role\": \"system\", \"content\": prompt},\n",
    "            {\n",
    "                \"role\": \"user\",\n",
    "                \"content\": str(opinions)\n",
    "            }\n",
    "        ],\n",
    "        response_format=Stance,\n",
    "    )\n",
    "\n",
    "    print(\"\\n\",completion.choices[0].message.content)\n",
    "\n",
    "\n",
    "print(\"\\n\", sentences1)\n",
    "stanceDetection(sentences1)\n",
    "print(\"\\n\", \"\\n\", sentences2)\n",
    "stanceDetection( sentences2)\n",
    "print(\"\\n\", \"\\n\", sentences3)\n",
    "stanceDetection(sentences3)\n",
    "print(\"\\n\", \"\\n\", sentences4)\n",
    "stanceDetection(sentences4)\n",
    "#print(\"\\n\", \"\\n\", sentences5)\n",
    "#stanceDetection(sentences5)"
   ],
   "id": "e34ba90e69929260",
   "outputs": [
    {
     "name": "stdout",
     "output_type": "stream",
     "text": [
      "\n",
      " ['En minutos en https://t.co/oZEqipCDoa la prueba reina de que Asofondos le redactó al senador Gustavo Moreno la proposición por medio de la  cual los fondos de pensiones resultaron beneficiados con una billonaria comisión en la reforma pensional. \\n\\nSantiago Montenegro, presidente de Asofondos, tiene que darle la cara al país. Porque son millones de trabajadores y ahorradores los damnificados. \\n\\nUn Congreso cuestionado por venderse, un gremio y el Gobierno Petro. \\n\\n¿No dizque no negociaron? \\n@fondosdepension \\n@danielwillsr']\n",
      "\n",
      " {\"value\":0.21,\"reason\":\"La opinión del usuario es claramente negativa hacia la reforma pensional, expresando indignación por el papel de Asofondos y el cuestionamiento al Congreso. Se percibe una fuerte oposición y no se reconocen aspectos positivos de la reforma.\", \"emotions\":[\"indignación\",\"frustración\",\"desconfianza\",\"crítica\",\"enfado\"]}\n",
      "\n",
      " \n",
      " ['#LaPensionalYa La reforma pensional da una pension digna para mas de dos millones de adultos mayores, es un acierto hacia un sistema pensional mas progresista', 'La reforma pensional es más corrupcion, mermelada y politiqueria para colpensiones']\n",
      "\n",
      " {\"value\":0.32,\"reason\":\"El usuario presenta opiniones contradictorias sobre la reforma pensional. Mientras una frase expresa apoyo al reconocer que la reforma beneficiará a más de dos millones de adultos mayores, la otra crítica sustancialmente el proyecto al asociarlo con corrupción y politiquería. Las emociones negativas en la crítica predominan sobre las positivas en la afirmación de apoyo, resultando en una postura en general más negativa. Además, el uso de términos como 'corrupción' y 'politiquería' indica un fuerte descontento y oposición, aunque también se reconoce el aspecto positivo de la reforma en términos de dignidad para los adultos mayores.\",\"emotions\":[\"apoyo\",\"optimismo\",\"desconfianza\",\"ira\",\"resentimiento\"]}\n",
      "\n",
      " \n",
      " ['Por altruismo van a dejar a varias generaciones sin futuro Pensional.']\n",
      "\n",
      " {\"value\":0.1,\"reason\":\"La frase indica una postura fuertemente en contra de la reforma, utilizando un tono negativo al mencionar que se dejará a \\\"varias generaciones sin futuro Pensional\\\", lo cual sugiere una clara desconfianza hacia los objetivos de la reforma. No se presentan argumentos a favor de la reforma, lo que refuerza esta postura negativa.\",\"emotions\":[\"desconfianza\",\"preocupación\",\"ira\"]}\n",
      "\n",
      " \n",
      " ['❌ Con la Reforma Pensional NO se va a expropiar la plata de la gente. ❌ El Pilar Solidario NO se paga con las cotizaciones de la gente. ✅ La Reforma Pensional SÍ cuenta con aval fiscal en la ponencia de segundo debate. Escuchen y compartan las claridades que el ministro  @ricardobonillag entregó esta mañana en el debate sobre la #ReformaPensionalYa ¡#AguantaPensionarse!', '#PensionarseUnaRealidad 🇨🇴👏🏻 Al lado del pueblo: así vivimos la sanción de la Reforma Pensional, un día para no olvidar. Un día para recordar que hemos avanzado hacia la justicia social. Los viejos y las viejas de nuestros país merecen una vejez digna 👵🏼👴🏽', 'La Reforma Pensional Sí genera impactos sociales en nuestro país. En este 🧵les cuento por qué 👇🏼 1️⃣ El Pilar solidario reduce sustancialmente la pobreza en los adultos mayores Actualmente el Estado, a través del Programa Social al Adulto Mayor, le otorga una renta mensual de $80 mil a 1.8 millones de adultos mayores que no reciben pensión -ni cotizaron al sistema- y que se encuentran en condición de pobreza. ✅La Reforma Pensional aprobada mejorará las condiciones de protección social al adulto mayor aumentando el monto de la renta mensual y la cobertura: la renta mensual aumentará de $80 mil a $240 mil y se pasará de 1.8 millones a 2.6 millones beneficiarios. ✅El Gobierno calcula que con la implementación de esta medida de la Reforma se reducirá en un 87% y en un 54% la cantidad de adultos mayores en condición de pobreza extrema y pobreza monetaria, respectivamente. 🔴 Ojo, esto no es un regalo, este pilar contribuye a la economía del país, al consumo, a la demanda agregada, por tanto, a la creación de empleo y a la productividad.']\n",
      "\n",
      " {\"value\":0.85,\"reason\":\"La mayoría de las opiniones expresadas en el texto son claramente favorables hacia la Reforma Pensional, destacando sus beneficios y avances hacia la justicia social para los adultos mayores, así como su viabilidad fiscal. Aunque no hay menciones explícitas en contra, los mensajes tienen un tono positivo que resalta logros. No se presentan argumentos de oposición, lo que sugiere una postura claramente pro-reforma y un entusiasmo evidente sobre las mejoras sociales que esta traerá.\",\"emotions\":[\"optimismo\",\"entusiasmo\",\"confianza\",\"alegría\",\"esperanza\"]}\n"
     ]
    }
   ],
   "execution_count": 3
  },
  {
   "metadata": {
    "ExecuteTime": {
     "end_time": "2024-10-23T21:05:35.108631Z",
     "start_time": "2024-10-23T21:05:35.100176Z"
    }
   },
   "cell_type": "code",
   "source": [
    "def stanceToConfidence(stance):\n",
    "    if stance < 0 or stance > 1:\n",
    "        return -1\n",
    "    return abs(stance - 0.5) / 0.5\n",
    "\n",
    "\n",
    "print([round(stanceToConfidence(i / 10), 1) for i in range(0, 11)])"
   ],
   "id": "67980d2dcb457e9b",
   "outputs": [
    {
     "name": "stdout",
     "output_type": "stream",
     "text": [
      "[1.0, 0.8, 0.6, 0.4, 0.2, 0.0, 0.2, 0.4, 0.6, 0.8, 1.0]\n"
     ]
    }
   ],
   "execution_count": 4
  },
  {
   "metadata": {
    "ExecuteTime": {
     "end_time": "2024-10-23T21:27:25.797017Z",
     "start_time": "2024-10-23T21:27:18.571510Z"
    }
   },
   "cell_type": "code",
   "source": [
    "sentences6 = [\n",
    "    \"El Gobierno y su bancada deben estar en la disposición de escuchar a las personas que tenemos desacuerdos con algunos puntos de la #ReformaPensional. Aunque no alcancé a mencionarlos todos, aquí les dejo algunos👇\"]\n",
    "stanceDetection(sentences6)\n",
    "sentences6.append(\"Cuando se caiga la Reforma Pensional en la Corte Constitucional no digan que fue #GolpeBlando. Les advertimos antes de votar y aún así decidieron arrasar. Petro congresista sería el primero en oponerse a este ataque a la democracia. Quedaban 5 días y tenían mayorías. Autoritarios!\")\n",
    "stanceDetection(sentences6)\n",
    "sentences6.append(\n",
    "    \"ESCANDALOSO: El gobierno quiere que la @CamaraColombia sea notaria del Senado para aprobar la reforma pensional sin discusión. ¡Si se aprueba el texto de Senado las administradoras de pensiones hacen fiesta porque el Senado les regaló una comisión de 2% que la Cámara eliminó!\",\n",
    "    )\n",
    "stanceDetection(sentences6)\n",
    "sentences6.append(\"Y una como una hueva🥚dizque presentando proposiciones para mejorar el texto de la Reforma Pensional… ya tenían todo cuadrado. 🤡🤡🤡\")\n",
    "stanceDetection(sentences6)"
   ],
   "id": "8c41c909c9373c6a",
   "outputs": [
    {
     "name": "stdout",
     "output_type": "stream",
     "text": [
      "\n",
      " {\"value\":0.25,\"reason\":\"La opinión expresa claramente una oposición moderada hacia la reforma, al mencionar desacuerdos con algunos puntos y la necesidad de que el gobierno escuche a quienes tienen diferentes puntos de vista. Esta postura se considera moderada porque el usuario no rechaza completamente la reforma, pero indica que hay aspectos que requieren revisión y discusión.\",\"emotions\":[\"desacuerdo\",\"preocupación\",\"apelación\"]}\n",
      "\n",
      " {\"value\":0.15,\"reason\":\"El usuario expresa un desacuerdo significativo con algunos aspectos de la reforma pensional y utiliza un tono crítico y de oposición. Las frases indican una postura decididamente en contra, aunque reconoce que hay una disposición para el diálogo, lo que suaviza un poco su postura extremada. Sin embargo, la fuerte oposición y el uso de términos como 'autoritarios' refuerzan una postura negativa. Se observa que la mayoría de las frases son en contra, con un tono emocional negativo predominante.\",\"emotions\":[\"desacuerdo\",\"frustración\",\"oposición\",\"crítica\",\"desilusión\"]}\n",
      "\n",
      " {\"value\":0.12,\"reason\":\"La postura del usuario es claramente en contra de la reforma pensional, manifestando desacuerdo y acusaciones hacia el gobierno de autoritarismo. Se mencionan desacuerdos con la reforma y se usa un tono de indignación, lo que refuerza una posición negativa. No hay indicios de apoyo, incluso en aspectos moderados. La mayoría de las frases son críticas y no hay reconocimiento de elementos positivos en la reforma.\",\"emotions\":[\"desacuerdo\",\"indignación\",\"crítica\",\"frustración\"]}\n",
      "\n",
      " {\"value\":0.02,\"reason\":\"La postura del usuario es claramente negativa hacia la reforma pensional, evidenciada por el uso de un lenguaje fuerte y emocionalmente cargado como 'escandaloso' y la referencia a acciones 'autoritarias'. Además, el enfoque en desacuerdos y comparaciones que critican el proceso denota un firme desacuerdo con la reforma. Las tasas de oposición son superiores a cualquier afirmación neutral o positiva manifestada por el usuario.\",\"emotions\":[\"indignación\",\"desacuerdo\",\"crítica\",\"frustración\"]}\n"
     ]
    }
   ],
   "execution_count": 14
  },
  {
   "metadata": {
    "ExecuteTime": {
     "end_time": "2024-10-23T21:20:05.652886Z",
     "start_time": "2024-10-23T21:20:02.522601Z"
    }
   },
   "cell_type": "code",
   "source": [
    "sentences7=[\"Si bien la reforma busca corregir desequilibrios financieros, es fundamental que se escuche a todas las partes involucradas para alcanzar consensos que beneficien a la sociedad en su conjunto.\"]\n",
    "stanceDetection(sentences7)\n",
    "sentences8=[\"El proyecto de reforma pensional busca modificar la estructura actual del sistema, teniendo en cuenta las condiciones del mercado laboral.\"]\n",
    "stanceDetection(sentences8)"
   ],
   "id": "b4b50d72fb4aaf69",
   "outputs": [
    {
     "name": "stdout",
     "output_type": "stream",
     "text": [
      "\n",
      " {\"value\":0.5,\"reason\":\"La opinión expresa una postura neutral hacia la reforma pensional, reconociendo la intención de corregir problemas financieros, pero también subrayando la importancia de escuchar a todas las partes involucradas. Esto sugiere que el autor no apoya ni se opone de manera contundente a la reforma, sino que hace un llamado a buscar consensos.\",\"emotions\":[] }\n",
      "\n",
      " {\"value\":0.5,\"reason\":\"La frase presenta una descripción neutral sobre el proyecto de reforma pensional, sin emitir juicios de valor claros a favor o en contra. No hay emociones positivas ni negativas que sugieran una postura definida.\",\"emotions\":[]}\n"
     ]
    }
   ],
   "execution_count": 13
  },
  {
   "metadata": {
    "ExecuteTime": {
     "end_time": "2024-10-27T16:32:26.458676Z",
     "start_time": "2024-10-27T16:32:26.433806Z"
    }
   },
   "cell_type": "code",
   "source": [
    "import re\n",
    "import emoji\n",
    "\n",
    "def cleanText(text: str) -> str:\n",
    "    text = re.sub(r'http\\S+|www\\S+', ':url:', text) #urls\n",
    "    #text = re.sub(r'@\\w+', '', text) #menciones\n",
    "    text = emoji.demojize(text, language=\"es\")\n",
    "    text = re.sub(' +', ' ', text) #espacios en blanco extras\n",
    "    return text\n",
    "print(cleanText(\"@petrogustavo:   Hola https://chatgpt.com/c/67081020-548c-8010-ae5d-6abb221a2f28 en esta url se puede ver como nos utilizan 🤬  😡\"))"
   ],
   "id": "33e58cc85d8d03b0",
   "outputs": [
    {
     "name": "stdout",
     "output_type": "stream",
     "text": [
      "@petrogustavo: Hola :url: en esta url se puede ver como nos utilizan :cara_con_sÃ­mbolos_en_la_boca: :cara_cabreada:\n"
     ]
    }
   ],
   "execution_count": 4
  },
  {
   "metadata": {},
   "cell_type": "code",
   "outputs": [],
   "execution_count": null,
   "source": "",
   "id": "670476b0e54c3dbd"
  }
 ],
 "metadata": {
  "kernelspec": {
   "display_name": "Python 3",
   "language": "python",
   "name": "python3"
  },
  "language_info": {
   "codemirror_mode": {
    "name": "ipython",
    "version": 2
   },
   "file_extension": ".py",
   "mimetype": "text/x-python",
   "name": "python",
   "nbconvert_exporter": "python",
   "pygments_lexer": "ipython2",
   "version": "2.7.6"
  }
 },
 "nbformat": 4,
 "nbformat_minor": 5
}
