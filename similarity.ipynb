{
 "cells": [
  {
   "cell_type": "code",
   "id": "initial_id",
   "metadata": {
    "collapsed": true,
    "ExecuteTime": {
     "end_time": "2024-09-22T19:04:23.924638Z",
     "start_time": "2024-09-22T19:04:20.493982Z"
    }
   },
   "source": [
    "import numpy as np\n",
    "from sentence_transformers import SentenceTransformer, SimilarityFunction\n",
    "model1 = SentenceTransformer('hiiamsid/sentence_similarity_spanish_es')"
   ],
   "outputs": [
    {
     "name": "stderr",
     "output_type": "stream",
     "text": [
      "C:\\Users\\jujov\\TG_code\\venv\\Lib\\site-packages\\transformers\\tokenization_utils_base.py:1601: FutureWarning: `clean_up_tokenization_spaces` was not set. It will be set to `True` by default. This behavior will be depracted in transformers v4.45, and will be then set to `False` by default. For more details check this issue: https://github.com/huggingface/transformers/issues/31884\n",
      "  warnings.warn(\n"
     ]
    }
   ],
   "execution_count": 7
  },
  {
   "metadata": {
    "ExecuteTime": {
     "end_time": "2024-09-24T19:43:20.833042Z",
     "start_time": "2024-09-24T19:43:20.825755Z"
    }
   },
   "cell_type": "code",
   "source": [
    "sentences1 = ['En minutos en https://t.co/oZEqipCDoa la prueba reina de que Asofondos le redactó al senador Gustavo Moreno la proposición por medio de la  cual los fondos de pensiones resultaron beneficiados con una billonaria comisión en la reforma pensional. \\n\\nSantiago Montenegro, presidente de Asofondos, tiene que darle la cara al país. Porque son millones de trabajadores y ahorradores los damnificados. \\n\\nUn Congreso cuestionado por venderse, un gremio y el Gobierno Petro. \\n\\n¿No dizque no negociaron? \\n@fondosdepension \\n@danielwillsr'  ]\n",
    "sentences2 = [\"#LaPensionalYa La reforma pensional da una pension digna para mas de dos millones de adultos mayores, es un acierto hacia un sistema pensional mas progresista\", \"La reforma pensional es más corrupcion, mermelada y politiqueria para colpensiones\"]"
   ],
   "id": "b3b8754d866e955",
   "outputs": [],
   "execution_count": 4
  },
  {
   "metadata": {
    "ExecuteTime": {
     "end_time": "2024-09-22T19:04:28.259688Z",
     "start_time": "2024-09-22T19:04:27.544615Z"
    }
   },
   "cell_type": "code",
   "source": [
    "embeddings1_m1 =model1.encode(sentences1)\n",
    "embeddings2_m1 =model1.encode(sentences2)\n",
    "\n",
    "model1.similarity(embeddings1_m1, embeddings2_m1)"
   ],
   "id": "459a824b100e99bc",
   "outputs": [
    {
     "data": {
      "text/plain": [
       "tensor([[0.6780, 0.3774],\n",
       "        [0.4672, 0.4999]])"
      ]
     },
     "execution_count": 9,
     "metadata": {},
     "output_type": "execute_result"
    }
   ],
   "execution_count": 9
  },
  {
   "metadata": {
    "ExecuteTime": {
     "end_time": "2024-09-24T19:39:05.300079Z",
     "start_time": "2024-09-24T19:38:52.865097Z"
    }
   },
   "cell_type": "code",
   "source": [
    "from sentence_transformers import SentenceTransformer\n",
    "\n",
    "\n",
    "model2 = SentenceTransformer('jaimevera1107/all-MiniLM-L6-v2-similarity-es')\n"
   ],
   "id": "ecba5a79942e3ddd",
   "outputs": [
    {
     "name": "stderr",
     "output_type": "stream",
     "text": [
      "C:\\Users\\jujov\\TG_code\\venv\\Lib\\site-packages\\sentence_transformers\\cross_encoder\\CrossEncoder.py:13: TqdmExperimentalWarning: Using `tqdm.autonotebook.tqdm` in notebook mode. Use `tqdm.tqdm` instead to force console mode (e.g. in jupyter console)\n",
      "  from tqdm.autonotebook import tqdm, trange\n",
      "C:\\Users\\jujov\\TG_code\\venv\\Lib\\site-packages\\transformers\\tokenization_utils_base.py:1601: FutureWarning: `clean_up_tokenization_spaces` was not set. It will be set to `True` by default. This behavior will be depracted in transformers v4.45, and will be then set to `False` by default. For more details check this issue: https://github.com/huggingface/transformers/issues/31884\n",
      "  warnings.warn(\n"
     ]
    }
   ],
   "execution_count": 2
  },
  {
   "metadata": {
    "ExecuteTime": {
     "end_time": "2024-09-24T19:43:42.138099Z",
     "start_time": "2024-09-24T19:43:41.937305Z"
    }
   },
   "cell_type": "code",
   "source": [
    "embeddings1_m2 = model2.encode(sentences1)\n",
    "embeddings2_m2 = model2.encode(sentences2)\n",
    "print(embeddings1_m2)\n",
    "model2.similarity(embeddings1_m2, embeddings2_m2)"
   ],
   "id": "61f79f0ef4bc744e",
   "outputs": [
    {
     "name": "stdout",
     "output_type": "stream",
     "text": [
      "[[-7.37249628e-02  8.11167061e-02 -3.49647924e-02  4.82821651e-02\n",
      "  -8.15587714e-02 -7.00766817e-02  2.87189870e-03 -1.05403448e-02\n",
      "   4.17253263e-02 -3.06567289e-02  9.85226333e-02 -2.46167257e-02\n",
      "  -2.40989048e-02 -4.52436283e-02 -5.29490784e-02  1.04152104e-02\n",
      "   6.14173822e-02  2.99279410e-02  1.25164744e-02  3.76818106e-02\n",
      "  -1.31355943e-02  2.58994475e-02  3.01104710e-02 -2.94866115e-02\n",
      "   5.52764954e-03  1.39226355e-02 -3.70301604e-02 -3.96720842e-02\n",
      "  -1.47034861e-02 -4.71053459e-02 -2.14835014e-02 -1.39555689e-02\n",
      "   1.11145573e-02 -6.40788525e-02  1.30258203e-01  2.51062158e-02\n",
      "   4.47463728e-02 -1.40949609e-02 -6.16315790e-02 -4.99820523e-02\n",
      "   3.41313262e-03  4.77187075e-02 -7.54085109e-02  6.10051379e-02\n",
      "  -1.92310736e-02  2.39851605e-02 -1.72663108e-02  3.81133221e-02\n",
      "  -7.69197801e-03 -3.88699062e-02 -2.47105453e-02 -2.20262688e-02\n",
      "  -3.98423299e-02  3.90063524e-02 -5.34109585e-02  5.55209219e-02\n",
      "  -8.68819505e-02  3.40459049e-02 -5.51852472e-02 -9.59202368e-03\n",
      "   5.25355004e-02 -1.51749812e-02 -1.84827615e-02 -5.12160696e-02\n",
      "  -2.90499497e-02  5.75590879e-02  4.22957130e-02 -4.36927676e-02\n",
      "  -4.71465103e-02  3.07297930e-02  5.31713590e-02 -3.78828086e-02\n",
      "   4.29046936e-02 -2.14819815e-02 -9.99034196e-02  7.20933303e-02\n",
      "  -1.41266268e-02  8.82100984e-02  1.96976122e-02 -5.75551949e-02\n",
      "  -1.72879063e-02 -9.75561738e-02  7.28566051e-02 -6.18246384e-03\n",
      "   2.96084443e-03  2.28496641e-02 -5.06755300e-02 -5.15026413e-02\n",
      "  -1.86356958e-02  2.66642775e-02  7.70359337e-02  4.81185280e-02\n",
      "   6.55610068e-03 -7.89825544e-02  7.16978335e-04  4.04523611e-02\n",
      "  -1.06114708e-02  3.66657116e-02 -7.68351033e-02  1.25458045e-02\n",
      "   3.68062258e-02  5.84679618e-02  3.31825987e-02 -4.49761190e-02\n",
      "   6.34354772e-03  1.14489667e-01 -3.89857329e-02 -7.79065266e-02\n",
      "   2.96060573e-02  4.05691890e-03  2.08648965e-02 -2.39339862e-02\n",
      "   3.23444162e-03 -5.37915640e-02 -1.23641230e-01 -7.75699154e-04\n",
      "  -5.54104932e-02  1.34482440e-02 -2.79590767e-02 -2.22266726e-02\n",
      "   8.47531110e-02  6.29523396e-02 -1.01154566e-01  7.31169805e-02\n",
      "  -6.21983334e-02  1.25801846e-01 -2.11530142e-02 -1.68434974e-06\n",
      "   7.23203868e-02 -1.65448599e-02  1.94792580e-02 -8.10185745e-02\n",
      "  -9.49127227e-03  6.38699308e-02  2.46332996e-02 -4.83984575e-02\n",
      "   1.59945004e-02 -2.38122493e-02 -1.30833732e-02 -4.08047549e-02\n",
      "   3.91496681e-02 -1.05744869e-01 -2.84124576e-02 -2.86388882e-02\n",
      "   3.11331991e-02 -2.80392375e-02  1.11338079e-01  5.27650192e-02\n",
      "   3.84182446e-02  8.74410570e-02  1.65230967e-02 -1.25295538e-02\n",
      "  -3.28437425e-02 -2.36634035e-02 -5.00801019e-02 -1.47273287e-01\n",
      "  -6.72609061e-02  1.94987908e-04 -6.55311272e-02 -1.05499960e-02\n",
      "   4.17975448e-02  8.78700763e-02 -1.17508983e-02 -4.92644385e-02\n",
      "  -7.74997994e-02 -8.05236995e-02 -2.33012158e-02 -4.02276553e-02\n",
      "  -5.79384267e-02  5.23219891e-02 -3.67420120e-03 -2.81673763e-02\n",
      "  -7.08196014e-02  1.03367325e-02  7.12867677e-02  5.97962029e-02\n",
      "   7.03298748e-02  4.99741659e-02  3.50959040e-02 -1.26409084e-02\n",
      "   7.67385494e-03  3.83606702e-02 -4.61442955e-02 -5.38708759e-04\n",
      "  -2.44649034e-02  1.00167301e-02  3.46383899e-02 -2.30790507e-02\n",
      "   4.95852940e-02  5.82450330e-02  7.95571730e-02 -4.35286798e-02\n",
      "  -2.13224124e-02  2.40344666e-02 -1.15423217e-01  1.63332168e-02\n",
      "  -2.90548448e-02 -6.37036115e-02  6.15987256e-02  2.67754458e-02\n",
      "   5.49563840e-02  1.25964936e-02 -3.84788103e-02 -4.55154199e-03\n",
      "   3.52614708e-02  4.98352125e-02  7.37106428e-03 -4.45508622e-02\n",
      "   6.99934661e-02  7.65965646e-03 -8.69202241e-03  6.12283461e-02\n",
      "   8.93390775e-02  5.61587662e-02  1.62024063e-03  9.22860950e-02\n",
      "  -3.33882906e-02  3.68532725e-02  2.06436776e-02 -2.13720966e-02\n",
      "  -1.98118724e-02  3.75511087e-02  8.39557424e-02 -6.30378736e-07\n",
      "   2.39653494e-02 -6.51734555e-03  3.70508595e-03 -5.14912494e-02\n",
      "  -5.70943579e-04  5.76463714e-02 -4.19023912e-03 -2.29608081e-02\n",
      "   2.00044271e-02 -4.06915508e-02  1.17214575e-01  3.68796401e-02\n",
      "  -6.48082271e-02  2.44923420e-02 -3.88235152e-02 -4.30424735e-02\n",
      "   3.22124772e-02  3.53904557e-04  9.87419859e-04  9.85659380e-03\n",
      "   4.96715344e-02  8.13663900e-02 -5.84931746e-02  2.00989321e-01\n",
      "  -3.61521579e-02  2.39373464e-02  5.07592922e-03 -1.04908608e-01\n",
      "  -3.46497297e-02 -1.39873512e-02  7.19183236e-02  3.48790586e-02\n",
      "  -6.57427125e-03 -4.99165878e-02  7.71032721e-02 -3.15911844e-02\n",
      "  -3.34813669e-02  9.53976344e-03  3.46002616e-02 -6.48674816e-02\n",
      "  -5.43654477e-03  5.31694777e-02  1.14683351e-02 -2.41352655e-02\n",
      "   1.45362401e-02 -2.47752108e-02 -6.60170615e-02 -7.40809813e-02\n",
      "  -2.90115476e-02 -6.10580631e-02 -2.44426355e-02  1.62238104e-03\n",
      "  -3.98698263e-02  2.24814266e-02  2.65288446e-03  5.17126061e-02\n",
      "   1.82548035e-02 -7.89086567e-04  3.83161977e-02  4.28531691e-02\n",
      "  -6.21454045e-02  2.54111104e-02  4.62988950e-03 -4.83837090e-02\n",
      "   3.05974260e-02  3.59378047e-02 -1.94691599e-03 -4.16120188e-03\n",
      "   3.17207128e-02 -3.67441848e-02 -1.33426124e-02  2.02158857e-02\n",
      "  -1.48750292e-02 -2.44951006e-02 -2.28216220e-02  6.18967675e-02\n",
      "   1.07977152e-01 -9.34669226e-02  2.95450503e-04 -5.90232871e-02\n",
      "  -2.81985030e-02 -1.52082872e-02 -8.99054669e-03  1.87265836e-02\n",
      "  -2.49789227e-02 -5.84335588e-02  1.42893952e-03 -7.68896788e-02\n",
      "   8.63305572e-03  5.63644692e-02  4.60731648e-02 -6.30132034e-02\n",
      "   6.75129592e-02  1.14333615e-01  6.75865635e-02  4.04071336e-08\n",
      "   8.39476883e-02 -2.72774771e-02  4.56606736e-03 -4.02892679e-02\n",
      "   1.76698733e-02 -8.13616142e-02  1.23477997e-02  3.83323594e-03\n",
      "  -7.71975517e-02 -5.53459972e-02  1.28685594e-01 -1.53975096e-02\n",
      "  -5.46334013e-02 -8.26769546e-02 -2.42619794e-02  7.62226954e-02\n",
      "  -7.84306601e-02 -8.54758080e-04  2.12310236e-02 -6.69785887e-02\n",
      "   1.81857478e-02 -3.59660871e-02 -4.71375659e-02  2.10614707e-02\n",
      "   2.79271398e-02 -2.47513652e-02  1.33502200e-01 -2.36064773e-02\n",
      "   9.52610373e-02 -6.15642183e-02  3.37488800e-02 -3.54033001e-02\n",
      "   1.67105459e-02  1.41438590e-02  2.87266057e-02 -1.07350446e-01\n",
      "   7.22276121e-02  4.04664241e-02 -7.49375485e-03 -2.54012048e-02\n",
      "  -7.23659098e-02 -3.54163013e-02  5.68068819e-03  2.05668453e-02\n",
      "  -6.70285523e-02 -4.58510593e-02 -4.02424596e-02 -4.43291999e-02\n",
      "   2.68909764e-02  7.18782172e-02  1.68757588e-02  6.28517047e-02\n",
      "  -1.08348802e-04  6.44924715e-02 -1.23792123e-02  1.20141366e-02\n",
      "   8.09296519e-02  2.70199422e-02 -7.53005743e-02  3.33546028e-02\n",
      "  -5.58611192e-03 -1.12118863e-01  1.76788250e-03  4.89002615e-02]]\n"
     ]
    },
    {
     "data": {
      "text/plain": [
       "tensor([[0.3691, 0.3040]])"
      ]
     },
     "execution_count": 6,
     "metadata": {},
     "output_type": "execute_result"
    }
   ],
   "execution_count": 6
  },
  {
   "metadata": {
    "ExecuteTime": {
     "end_time": "2024-09-21T22:14:48.125142Z",
     "start_time": "2024-09-21T22:00:07.223095Z"
    }
   },
   "cell_type": "code",
   "source": [
    "from transformers import pipeline\n",
    "sentiment_pipeline = pipeline('sentiment-analysis', model='cardiffnlp/twitter-roberta-base-sentiment')\n",
    "\n",
    "tweet = \"Estoy completamente en contra de la reforma pensional.\"\n",
    "sentiment = sentiment_pipeline(tweet)\n",
    "print(sentiment)"
   ],
   "id": "cda9f0dccf6c904c",
   "outputs": [
    {
     "data": {
      "text/plain": [
       "pytorch_model.bin:  48%|####8     | 241M/499M [00:00<?, ?B/s]"
      ],
      "application/vnd.jupyter.widget-view+json": {
       "version_major": 2,
       "version_minor": 0,
       "model_id": "c0c993856efd459d932356282c82a799"
      }
     },
     "metadata": {},
     "output_type": "display_data"
    },
    {
     "data": {
      "text/plain": [
       "vocab.json:   0%|          | 0.00/899k [00:00<?, ?B/s]"
      ],
      "application/vnd.jupyter.widget-view+json": {
       "version_major": 2,
       "version_minor": 0,
       "model_id": "3510710b29f543358096f82908c01cab"
      }
     },
     "metadata": {},
     "output_type": "display_data"
    },
    {
     "data": {
      "text/plain": [
       "merges.txt:   0%|          | 0.00/456k [00:00<?, ?B/s]"
      ],
      "application/vnd.jupyter.widget-view+json": {
       "version_major": 2,
       "version_minor": 0,
       "model_id": "d076bf040967435e8558f0ebfb2464af"
      }
     },
     "metadata": {},
     "output_type": "display_data"
    },
    {
     "data": {
      "text/plain": [
       "special_tokens_map.json:   0%|          | 0.00/150 [00:00<?, ?B/s]"
      ],
      "application/vnd.jupyter.widget-view+json": {
       "version_major": 2,
       "version_minor": 0,
       "model_id": "8a5a80575d5f47d399e6457537325c67"
      }
     },
     "metadata": {},
     "output_type": "display_data"
    },
    {
     "name": "stdout",
     "output_type": "stream",
     "text": [
      "[{'label': 'LABEL_1', 'score': 0.7809921503067017}]\n"
     ]
    },
    {
     "name": "stderr",
     "output_type": "stream",
     "text": [
      "C:\\Users\\jujov\\TG_code\\venv\\Lib\\site-packages\\transformers\\tokenization_utils_base.py:1601: FutureWarning: `clean_up_tokenization_spaces` was not set. It will be set to `True` by default. This behavior will be depracted in transformers v4.45, and will be then set to `False` by default. For more details check this issue: https://github.com/huggingface/transformers/issues/31884\n",
      "  warnings.warn(\n"
     ]
    }
   ],
   "execution_count": 1
  },
  {
   "metadata": {
    "ExecuteTime": {
     "end_time": "2024-09-21T22:16:25.125047Z",
     "start_time": "2024-09-21T22:16:24.879379Z"
    }
   },
   "cell_type": "code",
   "source": [
    "tweet = \"Estoy completamente en contra de la reforma pensional.\"\n",
    "print(sentiment_pipeline(tweet))\n",
    "tweet = \"Estoy completamente a favor de la reforma pensional.\"\n",
    "print(sentiment_pipeline(tweet))"
   ],
   "id": "ed154ba38486f260",
   "outputs": [
    {
     "name": "stdout",
     "output_type": "stream",
     "text": [
      "[{'label': 'LABEL_1', 'score': 0.7809921503067017}]\n",
      "[{'label': 'LABEL_1', 'score': 0.8399338126182556}]\n"
     ]
    }
   ],
   "execution_count": 2
  },
  {
   "metadata": {
    "ExecuteTime": {
     "end_time": "2024-10-01T17:08:28.839181Z",
     "start_time": "2024-10-01T17:08:28.230514Z"
    }
   },
   "cell_type": "code",
   "source": [
    "from pysentimiento import create_analyzer\n",
    "analyzerPYS = create_analyzer(task=\"sentiment\", lang=\"es\")"
   ],
   "id": "93ea17929122fc8e",
   "outputs": [],
   "execution_count": 32
  },
  {
   "metadata": {
    "ExecuteTime": {
     "end_time": "2024-10-01T17:08:30.404008Z",
     "start_time": "2024-10-01T17:08:30.286664Z"
    }
   },
   "cell_type": "code",
   "source": "analyzerPYS.predict(\"Estoy completamente en contra de la reforma pensional.\"),",
   "id": "1e96e370ffd6c8a6",
   "outputs": [
    {
     "data": {
      "text/plain": [
       "(AnalyzerOutput(output=NEG, probas={NEG: 0.921, NEU: 0.062, POS: 0.017}),)"
      ]
     },
     "execution_count": 33,
     "metadata": {},
     "output_type": "execute_result"
    }
   ],
   "execution_count": 33
  },
  {
   "metadata": {},
   "cell_type": "code",
   "outputs": [],
   "execution_count": null,
   "source": "",
   "id": "680eb4ec9a457a67"
  },
  {
   "metadata": {
    "ExecuteTime": {
     "end_time": "2024-10-01T16:35:18.408837Z",
     "start_time": "2024-10-01T16:35:18.394528Z"
    }
   },
   "cell_type": "code",
   "source": [
    "import nltk\n",
    "from nltk.sentiment import SentimentIntensityAnalyzer\n",
    "\n",
    "# Descargar recursos necesarios de NLTK\n",
    "nltk.download('vader_lexicon')\n",
    "\n",
    "# Función para realizar el análisis de sentimientos\n",
    "def analizar_sentimientos(texto):\n",
    "    sia = SentimentIntensityAnalyzer()\n",
    "    sentimiento = sia.polarity_scores(texto)\n",
    "    \n",
    "    # Extraer las características de polaridad\n",
    "    features = {}\n",
    "    features['polaridad_positiva'] = sentimiento['pos']\n",
    "    features['polaridad_negativa'] = sentimiento['neg']\n",
    "    features['polaridad_neutral'] = sentimiento['neu']\n",
    "    features['polaridad_compuesta'] = sentimiento['compound']\n",
    "    \n",
    "    return features\n",
    "\n",
    "# Ejemplo de uso\n",
    "texto = \"Me encanta, es el mejor producto que he comprado.\"\n",
    "resultados = analizar_sentimientos(texto)\n",
    "\n",
    "# Mostrar resultados\n",
    "print(\"Resultados del análisis de sentimientos:\")\n",
    "print(f\"Polaridad positiva: {resultados['polaridad_positiva']}\")\n",
    "print(f\"Polaridad negativa: {resultados['polaridad_negativa']}\")\n",
    "print(f\"Polaridad neutral: {resultados['polaridad_neutral']}\")\n",
    "print(f\"Polaridad compuesta: {resultados['polaridad_compuesta']}\")"
   ],
   "id": "881c0e69a24839df",
   "outputs": [
    {
     "name": "stdout",
     "output_type": "stream",
     "text": [
      "Resultados del análisis de sentimientos:\n",
      "Polaridad positiva: 0.0\n",
      "Polaridad negativa: 0.0\n",
      "Polaridad neutral: 1.0\n",
      "Polaridad compuesta: 0.0\n"
     ]
    }
   ],
   "execution_count": 21
  },
  {
   "metadata": {},
   "cell_type": "code",
   "outputs": [],
   "execution_count": null,
   "source": "",
   "id": "783f5c5bd1cd1b11"
  },
  {
   "metadata": {
    "ExecuteTime": {
     "end_time": "2024-10-01T17:08:34.644084Z",
     "start_time": "2024-10-01T17:08:34.397188Z"
    }
   },
   "cell_type": "code",
   "source": [
    "print(analizar_sentimientos(\"La reforma pensional es un despropósito politiquero.\"))\n",
    "print(analizar_sentimientos(\"Estoy completamente en contra de la reforma pensional.\"))\n",
    "print(analizar_sentimientos(\"Estoy completamente a favor de la reforma pensional.\"))\n",
    "print(analizar_sentimientos(\"La reforma pensional da una mesada digna para más de dos millones de adultos mayores\"))\n",
    "print(analizar_sentimientos(\"La aprobación de la reforma pensional en la Cámara de Representantes fue irregular y abiertamente inconstitucional.\"))\n",
    "print()\n",
    "\n",
    "print(analyzerPYS.predict(\"La reforma pensional es un despropósito politiquero.\"))\n",
    "print(analyzerPYS.predict(\"Estoy completamente en contra de la reforma pensional.\"))\n",
    "print(analyzerPYS.predict(\"Estoy completamente a favor de la reforma pensional.\"))\n",
    "print(analyzerPYS.predict(\"La reforma pensional da una mesada digna para más de dos millones de adultos mayores\"))\n",
    "print(analyzerPYS.predict(\"La aprobación de la reforma pensional en la Cámara de Representantes fue irregular y abiertamente inconstitucional.\"))\n"
   ],
   "id": "a1f36a2feb8924af",
   "outputs": [
    {
     "name": "stdout",
     "output_type": "stream",
     "text": [
      "{'polaridad_positiva': 0.0, 'polaridad_negativa': 0.0, 'polaridad_neutral': 1.0, 'polaridad_compuesta': 0.0}\n",
      "{'polaridad_positiva': 0.0, 'polaridad_negativa': 0.0, 'polaridad_neutral': 1.0, 'polaridad_compuesta': 0.0}\n",
      "{'polaridad_positiva': 0.31, 'polaridad_negativa': 0.0, 'polaridad_neutral': 0.69, 'polaridad_compuesta': 0.4019}\n",
      "{'polaridad_positiva': 0.0, 'polaridad_negativa': 0.0, 'polaridad_neutral': 1.0, 'polaridad_compuesta': 0.0}\n",
      "{'polaridad_positiva': 0.0, 'polaridad_negativa': 0.0, 'polaridad_neutral': 1.0, 'polaridad_compuesta': 0.0}\n",
      "\n",
      "AnalyzerOutput(output=NEG, probas={NEG: 0.967, NEU: 0.028, POS: 0.005})\n",
      "AnalyzerOutput(output=NEG, probas={NEG: 0.921, NEU: 0.062, POS: 0.017})\n",
      "AnalyzerOutput(output=NEU, probas={NEU: 0.377, POS: 0.325, NEG: 0.298})\n",
      "AnalyzerOutput(output=NEU, probas={NEU: 0.508, POS: 0.288, NEG: 0.203})\n",
      "AnalyzerOutput(output=NEG, probas={NEG: 0.908, NEU: 0.082, POS: 0.010})\n"
     ]
    }
   ],
   "execution_count": 34
  },
  {
   "metadata": {
    "ExecuteTime": {
     "end_time": "2024-10-01T13:58:25.673655Z",
     "start_time": "2024-10-01T13:58:20.166466Z"
    }
   },
   "cell_type": "code",
   "source": [
    "from vaderSentiment.vaderSentiment import SentimentIntensityAnalyzer\n",
    "\n",
    "analyzer = SentimentIntensityAnalyzer()\n",
    "analyzer.polarity_scores(\"La reforma pensional es un desproposito politiquero.\")"
   ],
   "id": "190cbad80779ce2c",
   "outputs": [
    {
     "data": {
      "text/plain": [
       "{'neg': 0.31, 'neu': 0.69, 'pos': 0.0, 'compound': -0.4019}"
      ]
     },
     "execution_count": 13,
     "metadata": {},
     "output_type": "execute_result"
    }
   ],
   "execution_count": 13
  },
  {
   "metadata": {},
   "cell_type": "code",
   "outputs": [],
   "execution_count": null,
   "source": [
    "def calcular_polaridad_compuesta(polaridad_positiva, polaridad_negativa, polaridad_neutral):\n",
    "    # Calcular la polaridad compuesta\n",
    "    polaridad_compuesta = (polaridad_positiva - polaridad_negativa) * (1 - polaridad_neutral)\n",
    "    return round(polaridad_compuesta, 3)\n",
    "\n",
    "# Ejemplo de polaridades\n",
    "polaridad_positiva = 0.0\n",
    "polaridad_negativa = 0.31\n",
    "polaridad_neutral = 0.69\n",
    "\n",
    "# Calcular polaridad compuesta\n",
    "polaridad_compuesta = calcular_polaridad_compuesta(polaridad_positiva, polaridad_negativa, polaridad_neutral)\n",
    "print(f'Polaridad compuesta: {polaridad_compuesta}')\n"
   ],
   "id": "15b6c40bde2faf49"
  },
  {
   "metadata": {
    "ExecuteTime": {
     "end_time": "2024-10-06T16:07:02.350106Z",
     "start_time": "2024-10-06T15:54:53.451369Z"
    }
   },
   "cell_type": "code",
   "source": [
    "from transformers import BertTokenizer, BertForSequenceClassification\n",
    "import torch\n",
    "\n",
    "# Ajustar un modelo preentrenado como BERT para regresión\n",
    "model = BertForSequenceClassification.from_pretrained('bert-base-uncased', num_labels=1) \n",
    "tokenizer = BertTokenizer.from_pretrained('bert-base-uncased')\n",
    "\n",
    "# Texto de ejemplo\n",
    "  # Postura continua predicha"
   ],
   "id": "4c5f1254e3189a15",
   "outputs": [
    {
     "data": {
      "text/plain": [
       "model.safetensors:  62%|######1   | 273M/440M [00:00<?, ?B/s]"
      ],
      "application/vnd.jupyter.widget-view+json": {
       "version_major": 2,
       "version_minor": 0,
       "model_id": "19a61d3f2748497a824852eaf145e4cd"
      }
     },
     "metadata": {},
     "output_type": "display_data"
    },
    {
     "name": "stderr",
     "output_type": "stream",
     "text": [
      "Error while downloading from https://cdn-lfs.hf.co/bert-base-uncased/68d45e234eb4a928074dfd868cead0219ab85354cc53d20e772753c6bb9169d3?response-content-disposition=inline%3B+filename*%3DUTF-8%27%27model.safetensors%3B+filename%3D%22model.safetensors%22%3B&Expires=1728489305&Policy=eyJTdGF0ZW1lbnQiOlt7IkNvbmRpdGlvbiI6eyJEYXRlTGVzc1RoYW4iOnsiQVdTOkVwb2NoVGltZSI6MTcyODQ4OTMwNX19LCJSZXNvdXJjZSI6Imh0dHBzOi8vY2RuLWxmcy5oZi5jby9iZXJ0LWJhc2UtdW5jYXNlZC82OGQ0NWUyMzRlYjRhOTI4MDc0ZGZkODY4Y2VhZDAyMTlhYjg1MzU0Y2M1M2QyMGU3NzI3NTNjNmJiOTE2OWQzP3Jlc3BvbnNlLWNvbnRlbnQtZGlzcG9zaXRpb249KiJ9XX0_&Signature=RsdYCW4GjJfG65UFt1qc61CLlB1d70yk%7EqyZfQu0UVFwBOJmf6CfDTbdCSPzeaB-RY2BG-WuaFYLcpQc6B7ixVx-71wWUeTtevvzYmXQNVXlafZb3Jfw2YeL-cQpuVuAvhIiMZXGWmChe3FA6LgeVknF7z0iM5r0atW9Ac2UA8DoRXyGqKu7eVAbmlEjXRjR5ZFJow4bLtwMLtf6c0CPJqTCPidtKzVxwtFuxEm9GI1mQOjXSPPP9TpjCTfSssP-GlkBM2MiO1AvVk1tZVRWpBEYmI3DpavkI3d7VUI-NkxlUCzu1D9LAu377UD2HAr6Q7qxFDZx2%7EaAYJ8ZT8ubWw__&Key-Pair-Id=K3RPWS32NSSJCE: HTTPSConnectionPool(host='cdn-lfs.hf.co', port=443): Read timed out.\n",
      "Trying to resume download...\n"
     ]
    },
    {
     "data": {
      "text/plain": [
       "model.safetensors:  64%|######4   | 283M/440M [00:00<?, ?B/s]"
      ],
      "application/vnd.jupyter.widget-view+json": {
       "version_major": 2,
       "version_minor": 0,
       "model_id": "05e46058f6c94128b67f86e196aa6930"
      }
     },
     "metadata": {},
     "output_type": "display_data"
    },
    {
     "name": "stderr",
     "output_type": "stream",
     "text": [
      "Some weights of BertForSequenceClassification were not initialized from the model checkpoint at bert-base-uncased and are newly initialized: ['classifier.bias', 'classifier.weight']\n",
      "You should probably TRAIN this model on a down-stream task to be able to use it for predictions and inference.\n"
     ]
    },
    {
     "data": {
      "text/plain": [
       "tokenizer_config.json:   0%|          | 0.00/48.0 [00:00<?, ?B/s]"
      ],
      "application/vnd.jupyter.widget-view+json": {
       "version_major": 2,
       "version_minor": 0,
       "model_id": "9d3a7ca805654d5f83ec8451a807f955"
      }
     },
     "metadata": {},
     "output_type": "display_data"
    },
    {
     "data": {
      "text/plain": [
       "vocab.txt:   0%|          | 0.00/232k [00:00<?, ?B/s]"
      ],
      "application/vnd.jupyter.widget-view+json": {
       "version_major": 2,
       "version_minor": 0,
       "model_id": "52049b3d70b1438ebfd95025747f6ea9"
      }
     },
     "metadata": {},
     "output_type": "display_data"
    },
    {
     "data": {
      "text/plain": [
       "tokenizer.json:   0%|          | 0.00/466k [00:00<?, ?B/s]"
      ],
      "application/vnd.jupyter.widget-view+json": {
       "version_major": 2,
       "version_minor": 0,
       "model_id": "890c614fe3ab40dd9aab5519c608660f"
      }
     },
     "metadata": {},
     "output_type": "display_data"
    },
    {
     "name": "stderr",
     "output_type": "stream",
     "text": [
      "C:\\Users\\jujov\\TG_code\\venv\\Lib\\site-packages\\transformers\\tokenization_utils_base.py:1601: FutureWarning: `clean_up_tokenization_spaces` was not set. It will be set to `True` by default. This behavior will be depracted in transformers v4.45, and will be then set to `False` by default. For more details check this issue: https://github.com/huggingface/transformers/issues/31884\n",
      "  warnings.warn(\n"
     ]
    },
    {
     "name": "stdout",
     "output_type": "stream",
     "text": [
      "Postura: 0.001\n"
     ]
    }
   ],
   "execution_count": 1
  },
  {
   "metadata": {
    "ExecuteTime": {
     "end_time": "2024-10-06T16:09:06.102687Z",
     "start_time": "2024-10-06T16:09:05.985199Z"
    }
   },
   "cell_type": "code",
   "source": [
    "text = \"La reforma pensional es un desastre.\"\n",
    "\n",
    "# Tokenización y preparación de entrada\n",
    "inputs = tokenizer(text, return_tensors=\"pt\", padding=True, truncation=True)\n",
    "outputs = model(**inputs)\n",
    "\n",
    "# El valor de salida será un número continuo que representa la postura\n",
    "postura = outputs.logits.item()\n",
    "print(f\"Postura: {postura:.3f}\", outputs.logits)"
   ],
   "id": "6e30e29d5b70d7bd",
   "outputs": [
    {
     "name": "stdout",
     "output_type": "stream",
     "text": [
      "Postura: -0.023 tensor([[-0.0229]], grad_fn=<AddmmBackward0>)\n"
     ]
    }
   ],
   "execution_count": 3
  },
  {
   "metadata": {
    "ExecuteTime": {
     "end_time": "2024-10-03T18:22:48.920655Z",
     "start_time": "2024-10-03T18:22:48.905679Z"
    }
   },
   "cell_type": "code",
   "source": [
    "import numpy as np\n",
    "m=np.array([[1,9,0], [1,0,1], [2,0,0]])\n",
    "a=np.array([4, 4, 2])\n",
    "comunity_influence = np.sum(a[m[0] != 0])\n",
    "comunity_influence"
   ],
   "id": "c32d9ff3ec443a9",
   "outputs": [
    {
     "data": {
      "text/plain": [
       "np.int64(8)"
      ]
     },
     "execution_count": 6,
     "metadata": {},
     "output_type": "execute_result"
    }
   ],
   "execution_count": 6
  }
 ],
 "metadata": {
  "kernelspec": {
   "display_name": "Python 3",
   "language": "python",
   "name": "python3"
  },
  "language_info": {
   "codemirror_mode": {
    "name": "ipython",
    "version": 2
   },
   "file_extension": ".py",
   "mimetype": "text/x-python",
   "name": "python",
   "nbconvert_exporter": "python",
   "pygments_lexer": "ipython2",
   "version": "2.7.6"
  }
 },
 "nbformat": 4,
 "nbformat_minor": 5
}
